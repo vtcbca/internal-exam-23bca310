{
 "cells": [
  {
   "cell_type": "markdown",
   "id": "f5136870-8558-44ef-873e-b108116119f5",
   "metadata": {},
   "source": [
    "### Create table product(userid, pid, pname, prate, pqty) and insert 5 record from python. Create trigger to check product rate and qty is not 0. Write product table data into csv file using writer object."
   ]
  },
  {
   "cell_type": "code",
   "execution_count": 1,
   "id": "e522fa8a-96ef-4664-8ca6-ae1ebfe6dd54",
   "metadata": {},
   "outputs": [],
   "source": [
    "import sqlite3 as sq"
   ]
  },
  {
   "cell_type": "code",
   "execution_count": 2,
   "id": "080d4f1e-150f-45ba-929e-c08cd9cefc3a",
   "metadata": {},
   "outputs": [],
   "source": [
    "conn=sq.connect(\"D:\\\\23bca307\\\\sqlite3\\\\database\\\\product.db\")"
   ]
  },
  {
   "cell_type": "code",
   "execution_count": 3,
   "id": "323fd52e-c857-40df-b3ef-0604af2c0976",
   "metadata": {},
   "outputs": [],
   "source": [
    "cur=conn.cursor()"
   ]
  },
  {
   "cell_type": "code",
   "execution_count": 8,
   "id": "23409cdc-4154-4a74-817c-1651787c0c5f",
   "metadata": {},
   "outputs": [
    {
     "data": {
      "text/plain": [
       "<sqlite3.Cursor at 0x16c391fe3b0>"
      ]
     },
     "execution_count": 8,
     "metadata": {},
     "output_type": "execute_result"
    }
   ],
   "source": [
    "cur.execute('''create table product2(userid integer,pid integer,pname text,prate real,pqty integer)''')"
   ]
  },
  {
   "cell_type": "code",
   "execution_count": 9,
   "id": "7d66c742-1ea2-4387-8c95-cce87350a17e",
   "metadata": {},
   "outputs": [
    {
     "data": {
      "text/plain": [
       "<sqlite3.Cursor at 0x16c391fe3b0>"
      ]
     },
     "execution_count": 9,
     "metadata": {},
     "output_type": "execute_result"
    }
   ],
   "source": [
    "cur.execute(\"insert into product1 values(1,101,'product 1',100.0,5),(2,102,'product 2',200.0,10),(3,103,'product 3',50.0,20),(4,104,'product 4',150.0,15),(5,105,'product 5',250.0,25)\")"
   ]
  },
  {
   "cell_type": "code",
   "execution_count": 10,
   "id": "d2ff850e-7df0-4fe6-ba30-31726dc45232",
   "metadata": {},
   "outputs": [
    {
     "data": {
      "text/plain": [
       "<sqlite3.Cursor at 0x16c391fe3b0>"
      ]
     },
     "execution_count": 10,
     "metadata": {},
     "output_type": "execute_result"
    }
   ],
   "source": [
    "cur.execute('select*from product1')"
   ]
  },
  {
   "cell_type": "code",
   "execution_count": 11,
   "id": "a448500d-5c2e-4cbe-90b2-4c8d03b1d113",
   "metadata": {},
   "outputs": [
    {
     "data": {
      "text/plain": [
       "[(1, 101, 'product 1', 100.0, 5),\n",
       " (2, 102, 'product 2', 200.0, 10),\n",
       " (3, 103, 'product 3', 50.0, 20),\n",
       " (4, 104, 'product 4', 150.0, 15),\n",
       " (5, 105, 'product 5', 250.0, 25),\n",
       " (1, 101, 'product 1', 100.0, 5),\n",
       " (2, 102, 'product 2', 200.0, 10),\n",
       " (3, 103, 'product 3', 50.0, 20),\n",
       " (4, 104, 'product 4', 150.0, 15),\n",
       " (5, 105, 'product 5', 250.0, 25)]"
      ]
     },
     "execution_count": 11,
     "metadata": {},
     "output_type": "execute_result"
    }
   ],
   "source": [
    "cur.fetchall()"
   ]
  },
  {
   "cell_type": "code",
   "execution_count": 12,
   "id": "b844bd5d-218a-4c07-a296-4da40cfad85c",
   "metadata": {},
   "outputs": [
    {
     "data": {
      "text/plain": [
       "<sqlite3.Cursor at 0x16c391fe3b0>"
      ]
     },
     "execution_count": 12,
     "metadata": {},
     "output_type": "execute_result"
    }
   ],
   "source": [
    "\n",
    "cur.execute('''\n",
    "create trigger if not exists product_rate_qty\n",
    "before insert on product2\n",
    "for each row\n",
    "begin\n",
    "select\n",
    "case\n",
    "when new.prate = 0 THEN\n",
    "raise (abort, 'Product rate cannot be zero.')\n",
    "when new.pqty = 0 THEN\n",
    "raise (abort, 'Product quantity cannot be zero.')\n",
    "end;\n",
    "end;\n",
    "''')\n",
    "\n"
   ]
  },
  {
   "cell_type": "code",
   "execution_count": null,
   "id": "a82aaae4-39d3-47b3-acf3-499f67aacfb8",
   "metadata": {},
   "outputs": [],
   "source": []
  }
 ],
 "metadata": {
  "kernelspec": {
   "display_name": "Python 3 (ipykernel)",
   "language": "python",
   "name": "python3"
  },
  "language_info": {
   "codemirror_mode": {
    "name": "ipython",
    "version": 3
   },
   "file_extension": ".py",
   "mimetype": "text/x-python",
   "name": "python",
   "nbconvert_exporter": "python",
   "pygments_lexer": "ipython3",
   "version": "3.9.6"
  }
 },
 "nbformat": 4,
 "nbformat_minor": 5
}
