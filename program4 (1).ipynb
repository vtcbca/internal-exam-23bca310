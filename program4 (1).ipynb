{
 "cells": [
  {
   "cell_type": "markdown",
   "id": "f5136870-8558-44ef-873e-b108116119f5",
   "metadata": {},
   "source": [
    "### Create table product(userid, pid, pname, prate, pqty) and insert 5 record from python. Create trigger to check product rate and qty is not 0. Write product table data into csv file using writer object."
   ]
  },
  {
   "cell_type": "code",
   "execution_count": 1,
   "id": "e522fa8a-96ef-4664-8ca6-ae1ebfe6dd54",
   "metadata": {},
   "outputs": [],
   "source": [
    "import sqlite3 as sq"
   ]
  },
  {
   "cell_type": "code",
   "execution_count": 2,
   "id": "080d4f1e-150f-45ba-929e-c08cd9cefc3a",
   "metadata": {},
   "outputs": [],
   "source": [
    "conn=sq.connect(\"D:\\\\23bca307\\\\sqlite3\\\\database\\\\product.db\")"
   ]
  },
  {
   "cell_type": "code",
   "execution_count": 3,
   "id": "323fd52e-c857-40df-b3ef-0604af2c0976",
   "metadata": {},
   "outputs": [],
   "source": [
    "cur=conn.cursor()"
   ]
  },
  {
   "cell_type": "code",
   "execution_count": 8,
   "id": "23409cdc-4154-4a74-817c-1651787c0c5f",
   "metadata": {},
   "outputs": [
    {
     "data": {
      "text/plain": [
       "<sqlite3.Cursor at 0x16c391fe3b0>"
      ]
     },
     "execution_count": 8,
     "metadata": {},
     "output_type": "execute_result"
    }
   ],
   "source": [
    "cur.execute('''create table product2(userid integer,pid integer,pname text,prate real,pqty integer)''')"
   ]
  },
  {
   "cell_type": "code",
   "execution_count": 9,
   "id": "7d66c742-1ea2-4387-8c95-cce87350a17e",
   "metadata": {},
   "outputs": [
    {
     "data": {
      "text/plain": [
       "<sqlite3.Cursor at 0x16c391fe3b0>"
      ]
     },
     "execution_count": 9,
     "metadata": {},
     "output_type": "execute_result"
    }
   ],
   "source": [
    "cur.execute(\"insert into product1 values(1,101,'product 1',100.0,5),(2,102,'product 2',200.0,10),(3,103,'product 3',50.0,20),(4,104,'product 4',150.0,15),(5,105,'product 5',250.0,25)\")"
   ]
  },
  {
   "cell_type": "code",
   "execution_count": 10,
   "id": "d2ff850e-7df0-4fe6-ba30-31726dc45232",
   "metadata": {},
   "outputs": [
    {
     "data": {
      "text/plain": [
       "<sqlite3.Cursor at 0x16c391fe3b0>"
      ]
     },
     "execution_count": 10,
     "metadata": {},
     "output_type": "execute_result"
    }
   ],
   "source": [
    "cur.execute('select*from product1')"
   ]
  },
  {
   "cell_type": "code",
   "execution_count": 11,
   "id": "a448500d-5c2e-4cbe-90b2-4c8d03b1d113",
   "metadata": {},
   "outputs": [
    {
     "data": {
      "text/plain": [
       "[(1, 101, 'product 1', 100.0, 5),\n",
       " (2, 102, 'product 2', 200.0, 10),\n",
       " (3, 103, 'product 3', 50.0, 20),\n",
       " (4, 104, 'product 4', 150.0, 15),\n",
       " (5, 105, 'product 5', 250.0, 25),\n",
       " (1, 101, 'product 1', 100.0, 5),\n",
       " (2, 102, 'product 2', 200.0, 10),\n",
       " (3, 103, 'product 3', 50.0, 20),\n",
       " (4, 104, 'product 4', 150.0, 15),\n",
       " (5, 105, 'product 5', 250.0, 25)]"
      ]
     },
     "execution_count": 11,
     "metadata": {},
     "output_type": "execute_result"
    }
   ],
   "source": [
    "cur.fetchall()"
   ]
  },
  {
   "cell_type": "markdown",
   "id": "2a774c37-ad97-4a27-92da-c8878b6c3180",
   "metadata": {},
   "source": [
    "## create trigger to check product rate and quantity"
   ]
  },
  {
   "cell_type": "code",
   "execution_count": 12,
   "id": "b844bd5d-218a-4c07-a296-4da40cfad85c",
   "metadata": {},
   "outputs": [
    {
     "data": {
      "text/plain": [
       "<sqlite3.Cursor at 0x16c391fe3b0>"
      ]
     },
     "execution_count": 12,
     "metadata": {},
     "output_type": "execute_result"
    }
   ],
   "source": [
    "\n",
    "cur.execute('''\n",
    "create trigger if not exists product_rate_qty\n",
    "before insert on product2\n",
    "for each row\n",
    "begin\n",
    "select\n",
    "case\n",
    "when new.prate = 0 THEN\n",
    "raise (abort, 'Product rate cannot be zero.')\n",
    "when new.pqty = 0 THEN\n",
    "raise (abort, 'Product quantity cannot be zero.')\n",
    "end;\n",
    "end;\n",
    "''')\n",
    "\n"
   ]
  },
  {
   "cell_type": "markdown",
   "id": "050ea7d4-e949-4d49-a42e-7c8011462c20",
   "metadata": {},
   "source": [
    "## write product table data to csv file"
   ]
  },
  {
   "cell_type": "code",
   "execution_count": 21,
   "id": "c6a5255d-42b7-4cd1-b27a-f55066d667db",
   "metadata": {},
   "outputs": [],
   "source": [
    "import csv"
   ]
  },
  {
   "cell_type": "code",
   "execution_count": 22,
   "id": "fc80cae0-06ac-412c-8310-60b9a0f74972",
   "metadata": {},
   "outputs": [],
   "source": [
    "with open('product2.csv','w',newline='')as file:\n",
    "    writer=csv.writer(file)\n",
    "    writer.writerow(['userid','pid','pname','prate','pqty'])"
   ]
  },
  {
   "cell_type": "code",
   "execution_count": 24,
   "id": "f54598de-4f40-4e89-85e7-e359582a4c05",
   "metadata": {},
   "outputs": [],
   "source": [
    "writer.writerows(cur.execute('select*from product2').fetchall())"
   ]
  },
  {
   "cell_type": "code",
   "execution_count": 25,
   "id": "f07eaa81-d189-447c-b9ca-a9f2629fe9b5",
   "metadata": {},
   "outputs": [],
   "source": [
    "conn.close()"
   ]
  },
  {
   "cell_type": "code",
   "execution_count": null,
   "id": "63cf5378-c5ec-4444-9ec8-fe9da76d71be",
   "metadata": {},
   "outputs": [],
   "source": []
  }
 ],
 "metadata": {
  "kernelspec": {
   "display_name": "Python 3 (ipykernel)",
   "language": "python",
   "name": "python3"
  },
  "language_info": {
   "codemirror_mode": {
    "name": "ipython",
    "version": 3
   },
   "file_extension": ".py",
   "mimetype": "text/x-python",
   "name": "python",
   "nbconvert_exporter": "python",
   "pygments_lexer": "ipython3",
   "version": "3.9.6"
  }
 },
 "nbformat": 4,
 "nbformat_minor": 5
}
